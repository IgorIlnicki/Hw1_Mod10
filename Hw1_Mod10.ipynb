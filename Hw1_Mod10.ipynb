{
 "cells": [
  {
   "cell_type": "code",
   "execution_count": 1,
   "id": "30d7ebba-3ea7-47cc-a9fa-4b75d8e560cd",
   "metadata": {},
   "outputs": [
    {
     "data": {
      "text/plain": [
       "'ml-100k'"
      ]
     },
     "execution_count": 1,
     "metadata": {},
     "output_type": "execute_result"
    }
   ],
   "source": [
    "import pandas as pd\n",
    "import matplotlib.pyplot as plt\n",
    "import zipfile\n",
    "import os\n",
    "# Перша частина завдання - обробка датасету data_2d\n",
    "# Шлях до zip-файлу\n",
    "zip_path = \"C:\\\\Users\\\\Igor\\\\Downloads\\\\ml-100k.zip\"\n",
    "extract_folder = '/new/ml-100k'\n",
    "\n",
    "# Розпакування файл\n",
    "with zipfile.ZipFile(zip_path, 'r') as zip_ref:\n",
    "    zip_ref.extractall(extract_folder)\n",
    "\n",
    "# Список файлів у розпакованій папці\n",
    "extracted_files = os.listdir(extract_folder)\n",
    "extracted_files[0]"
   ]
  },
  {
   "cell_type": "code",
   "execution_count": 2,
   "id": "baa9e638-8d82-4cb4-80d0-f14f941c00ac",
   "metadata": {},
   "outputs": [
    {
     "data": {
      "text/plain": [
       "'/new/ml-100k\\\\ml-100k'"
      ]
     },
     "execution_count": 2,
     "metadata": {},
     "output_type": "execute_result"
    }
   ],
   "source": [
    "# Перерахування файлів в папці \"data\".\n",
    "data_folder_path = os.path.join(extract_folder, extracted_files[0])\n",
    "data_folder_path"
   ]
  },
  {
   "cell_type": "code",
   "execution_count": 3,
   "id": "07a726f5-1780-48f4-bd6f-58793dd43686",
   "metadata": {},
   "outputs": [
    {
     "data": {
      "text/plain": [
       "['allbut.pl',\n",
       " 'mku.sh',\n",
       " 'README',\n",
       " 'u.data',\n",
       " 'u.genre',\n",
       " 'u.info',\n",
       " 'u.item',\n",
       " 'u.occupation',\n",
       " 'u.user',\n",
       " 'u1.base',\n",
       " 'u1.test',\n",
       " 'u2.base',\n",
       " 'u2.test',\n",
       " 'u3.base',\n",
       " 'u3.test',\n",
       " 'u4.base',\n",
       " 'u4.test',\n",
       " 'u5.base',\n",
       " 'u5.test',\n",
       " 'ua.base',\n",
       " 'ua.test',\n",
       " 'ub.base',\n",
       " 'ub.test']"
      ]
     },
     "execution_count": 3,
     "metadata": {},
     "output_type": "execute_result"
    }
   ],
   "source": [
    "data_files = os.listdir(data_folder_path)\n",
    "data_files"
   ]
  },
  {
   "cell_type": "code",
   "execution_count": 4,
   "id": "d974f13c-e427-4421-ae21-5c3226bdf484",
   "metadata": {},
   "outputs": [
    {
     "name": "stdout",
     "output_type": "stream",
     "text": [
      "Requirement already satisfied: scikit-surprise in c:\\users\\igor\\anaconda3\\lib\\site-packages (1.1.3)\n",
      "Requirement already satisfied: joblib>=1.0.0 in c:\\users\\igor\\anaconda3\\lib\\site-packages (from scikit-surprise) (1.4.0)\n",
      "Requirement already satisfied: numpy>=1.17.3 in c:\\users\\igor\\anaconda3\\lib\\site-packages (from scikit-surprise) (1.26.4)\n",
      "Requirement already satisfied: scipy>=1.3.2 in c:\\users\\igor\\anaconda3\\lib\\site-packages (from scikit-surprise) (1.13.0)\n"
     ]
    }
   ],
   "source": [
    "!pip install scikit-surprise"
   ]
  },
  {
   "cell_type": "code",
   "execution_count": 4,
   "id": "54a91a72-d21b-4dc5-91cc-e4d695a951eb",
   "metadata": {},
   "outputs": [
    {
     "data": {
      "text/plain": [
       "<surprise.dataset.DatasetAutoFolds at 0x1b5bf68bd10>"
      ]
     },
     "execution_count": 4,
     "metadata": {},
     "output_type": "execute_result"
    }
   ],
   "source": [
    "import pandas as pd\n",
    "from surprise import Dataset, Reader, SVD\n",
    "from surprise.model_selection import cross_validate, GridSearchCV\n",
    "\n",
    "# Завантажимо датасет movielens\n",
    "data = Dataset.load_builtin('ml-100k')\n",
    "data"
   ]
  },
  {
   "cell_type": "code",
   "execution_count": 1,
   "id": "f73ee1a6-e649-404b-b199-9e542690a6c1",
   "metadata": {},
   "outputs": [
    {
     "name": "stdout",
     "output_type": "stream",
     "text": [
      "Evaluating RMSE, MAE of algorithm SVD on 5 split(s).\n",
      "\n",
      "                  Fold 1  Fold 2  Fold 3  Fold 4  Fold 5  Mean    Std     \n",
      "RMSE (testset)    0.9438  0.9250  0.9321  0.9380  0.9327  0.9343  0.0063  \n",
      "MAE (testset)     0.7431  0.7303  0.7366  0.7380  0.7350  0.7366  0.0042  \n",
      "Fit time          0.80    0.83    0.81    0.77    0.77    0.80    0.02    \n",
      "Test time         0.12    0.10    0.14    0.14    0.15    0.13    0.02    \n",
      "Evaluating RMSE, MAE of algorithm SVDpp on 5 split(s).\n",
      "\n",
      "                  Fold 1  Fold 2  Fold 3  Fold 4  Fold 5  Mean    Std     \n",
      "RMSE (testset)    0.9173  0.9158  0.9211  0.9266  0.9133  0.9188  0.0046  \n",
      "MAE (testset)     0.7190  0.7194  0.7210  0.7272  0.7164  0.7206  0.0036  \n",
      "Fit time          12.98   13.39   13.06   13.07   13.88   13.28   0.33    \n",
      "Test time         3.46    3.53    3.50    3.40    3.55    3.49    0.05    \n",
      "Evaluating RMSE, MAE of algorithm NMF on 5 split(s).\n",
      "\n",
      "                  Fold 1  Fold 2  Fold 3  Fold 4  Fold 5  Mean    Std     \n",
      "RMSE (testset)    0.9626  0.9646  0.9626  0.9589  0.9601  0.9618  0.0020  \n",
      "MAE (testset)     0.7560  0.7570  0.7574  0.7545  0.7504  0.7551  0.0025  \n",
      "Fit time          1.53    1.60    1.54    1.51    1.45    1.52    0.05    \n",
      "Test time         0.15    0.15    0.09    0.08    0.14    0.12    0.03    \n",
      "SVD Results:\n",
      "{'test_rmse': array([0.94384355, 0.92497517, 0.93212771, 0.93795843, 0.93265372]), 'test_mae': array([0.74314517, 0.73032832, 0.73656845, 0.73803118, 0.73500417]), 'fit_time': (0.8039979934692383, 0.8279774188995361, 0.8050141334533691, 0.7699790000915527, 0.7689993381500244), 'test_time': (0.1230010986328125, 0.10100078582763672, 0.14099955558776855, 0.1419997215270996, 0.14697909355163574)}\n",
      "\n",
      "SVD++ Results:\n",
      "{'test_rmse': array([0.91730129, 0.91582141, 0.92111468, 0.92663963, 0.91330989]), 'test_mae': array([0.71899328, 0.71937541, 0.72100617, 0.72718997, 0.71642714]), 'fit_time': (12.982001543045044, 13.385992288589478, 13.06000018119812, 13.074988603591919, 13.883054494857788), 'test_time': (3.458989143371582, 3.5279998779296875, 3.5009918212890625, 3.4040212631225586, 3.552000045776367)}\n",
      "\n",
      "NMF Results:\n",
      "{'test_rmse': array([0.9625761 , 0.96461367, 0.96259012, 0.95886579, 0.960129  ]), 'test_mae': array([0.75600837, 0.75699224, 0.75744702, 0.7545464 , 0.75041365]), 'fit_time': (1.5260014533996582, 1.5959982872009277, 1.5399878025054932, 1.512998342514038, 1.449991226196289), 'test_time': (0.1510000228881836, 0.15200114250183105, 0.08699941635131836, 0.0820000171661377, 0.13798928260803223)}\n"
     ]
    }
   ],
   "source": [
    "from surprise import Dataset, Reader\n",
    "from surprise.model_selection import cross_validate\n",
    "from surprise.prediction_algorithms import SVD, SVDpp, NMF\n",
    "\n",
    "\n",
    "data = Dataset.load_builtin('ml-100k')\n",
    "\n",
    "\n",
    "reader = Reader(rating_scale=(1, 5))\n",
    "\n",
    "# Побудова моделі SVD та проведення крос-валідації для підбору параметрів\n",
    "svd_model = SVD()\n",
    "svd_cv_results = cross_validate(svd_model, data, measures=['RMSE', 'MAE'], cv=5, verbose=True)\n",
    "\n",
    "# Побудова моделі SVD++  (SVD з використанням неявних оцінок) та проведення крос-валідації\n",
    "svdpp_model = SVDpp()\n",
    "svdpp_cv_results = cross_validate(svdpp_model, data, measures=['RMSE', 'MAE'], cv=5, verbose=True)\n",
    "\n",
    "# Побудова моделі NMF  (Non-negative Matrix Factorization) та проведення крос-валідації\n",
    "nmf_model = NMF()\n",
    "nmf_cv_results = cross_validate(nmf_model, data, measures=['RMSE', 'MAE'], cv=5, verbose=True)\n",
    "# Результати крос-валідації (похибки RMSE і MAE)\n",
    "# Виведення результатів крос-валідації зберігаються для кожної моделі в відповідних змінних\n",
    "# svd_cv_results, svdpp_cv_results та nmf_cv_results\n",
    "print(\"SVD Results:\")\n",
    "print(svd_cv_results)\n",
    "print(\"\\nSVD++ Results:\")\n",
    "print(svdpp_cv_results)\n",
    "print(\"\\nNMF Results:\")\n",
    "print(nmf_cv_results)"
   ]
  },
  {
   "cell_type": "markdown",
   "id": "5253fc7c-18c0-4300-955d-17b81b5ae733",
   "metadata": {},
   "source": [
    "\n",
    "Проанализуємо результати крос-валідації для кожної моделі.\n",
    "\n",
    "Модель SVD:\n",
    "RMSE (середньоквадратична помилка): Середнє значення RMSE для кожного з розгорнутих наборів даних коливається від 0.925 до 0.944 з середнім значенням приблизно 0.934. Стандартне відхилення досить мале - близько 0.0063, що свідчить про стабільність результатів.\n",
    "MAE (середня абсолютна помилка): Середнє значення MAE знаходиться в діапазоні від 0.730 до 0.743, з середнім значенням близько 0.737. Стандартне відхилення також невелике - приблизно 0.0042.\n",
    "Модель SVD++:\n",
    "RMSE: Середнє значення RMSE коливається від 0.914 до 0.927 з середнім значенням приблизно 0.919. Стандартне відхилення досить мале - близько 0.0046, що також свідчить про стабільність результатів.\n",
    "MAE: Середнє значення MAE знаходиться в діапазоні від 0.716 до 0.727, з середнім значенням близько 0.721. Стандартне відхилення становить близько 0.0036.\n",
    "Модель NMF:\n",
    "RMSE: Середнє значення RMSE для кожного з розгорнутих наборів даних коливається від 0.959 до 0.965 з середнім значенням близько 0.962. Стандартне відхилення досить мале - приблизно 0.0020.\n",
    "MAE: Середнє значення MAE знаходиться в діапазоні від 0.750 до 0.757, з середнім значенням близько 0.755. Стандартне відхилення становить близько 0.0025.\n",
    "Загальні висновки:\n",
    "Модель SVD++ має найменше значення RMSE та MAE, що свідчить про кращу точність прогнозування порівняно з іншими моделями.\n",
    "Модель SVD також демонструє добрі результати, але трохи гірші, ніж у SVD++.\n",
    "Модель NMF має найбільше значення RMSE та MAE, що може свідчити про меншу точність цієї моделі порівняно з іншими двома.\n",
    "Загалом, на основі цих результатів можна зробити висновок, що модель SVD++ може бути найкращим варіантом для цього конкретного набору даних з оцінками фільмів."
   ]
  }
 ],
 "metadata": {
  "kernelspec": {
   "display_name": "Python 3 (ipykernel)",
   "language": "python",
   "name": "python3"
  },
  "language_info": {
   "codemirror_mode": {
    "name": "ipython",
    "version": 3
   },
   "file_extension": ".py",
   "mimetype": "text/x-python",
   "name": "python",
   "nbconvert_exporter": "python",
   "pygments_lexer": "ipython3",
   "version": "3.11.7"
  }
 },
 "nbformat": 4,
 "nbformat_minor": 5
}
